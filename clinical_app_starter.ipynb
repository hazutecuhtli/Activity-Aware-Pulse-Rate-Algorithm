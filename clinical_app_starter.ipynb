{
 "cells": [
  {
   "cell_type": "markdown",
   "metadata": {},
   "source": [
    "## Part 2: Clinical Application\n",
    "\n",
    "### Contents\n",
    "Fill out this notebook as part 2 of your final project submission.\n",
    "\n",
    "**You will have to complete the Code (Load Metadata & Compute Resting Heart Rate) and Project Write-up sections.**  \n",
    "\n",
    "- [Code](#Code) is where you will implement some parts of the **pulse rate algorithm** you created and tested in Part 1 and already includes the starter code.\n",
    "  - [Imports](#Imports) - These are the imports needed for Part 2 of the final project. \n",
    "    - [glob](https://docs.python.org/3/library/glob.html)\n",
    "    - [os](https://docs.python.org/3/library/os.html)\n",
    "    - [numpy](https://numpy.org/)\n",
    "    - [pandas](https://pandas.pydata.org/)\n",
    "  - [Load the Dataset](#Load-the-dataset)  \n",
    "  - [Load Metadata](#Load-Metadata)\n",
    "  - [Compute Resting Heart Rate](#Compute-Resting-Heart-Rate)\n",
    "  - [Plot Resting Heart Rate vs. Age Group](#Plot-Resting-Heart-Rate-vs.-Age-Group)\n",
    "- [Project Write-up](#Project-Write-Up) to describe the clinical significance you observe from the **pulse rate algorithm** applied to this dataset, what ways/information that could improve your results, and if we validated a trend known in the science community. \n",
    "\n",
    "### Dataset (CAST)\n",
    "\n",
    "The data from this project comes from the [Cardiac Arrythmia Suppression Trial (CAST)](https://physionet.org/content/crisdb/1.0.0/), which was sponsored by the National Heart, Lung, and Blood Institute (NHLBI). CAST collected 24 hours of heart rate data from ECGs from people who have had a myocardial infarction (MI) within the past two years.[1] This data has been smoothed and resampled to more closely resemble PPG-derived pulse rate data from a wrist wearable.[2]\n",
    "\n",
    "1. **CAST RR Interval Sub-Study Database Citation** - Stein PK, Domitrovich PP, Kleiger RE, Schechtman KB, Rottman JN. Clinical and demographic determinants of heart rate variability in patients post myocardial infarction: insights from the Cardiac Arrhythmia Suppression Trial (CAST). Clin Cardiol 23(3):187-94; 2000 (Mar)\n",
    "2. **Physionet Citation** - Goldberger AL, Amaral LAN, Glass L, Hausdorff JM, Ivanov PCh, Mark RG, Mietus JE, Moody GB, Peng C-K, Stanley HE. PhysioBank, PhysioToolkit, and PhysioNet: Components of a New Research Resource for Complex Physiologic Signals (2003). Circulation. 101(23):e215-e220.\n",
    "\n",
    "-----"
   ]
  },
  {
   "cell_type": "markdown",
   "metadata": {},
   "source": [
    "### Code\n",
    "#### Imports\n",
    "\n",
    "When you implement the functions, you'll only need to you use the packages you've used in the classroom, like [Pandas](https://pandas.pydata.org/) and [Numpy](http://www.numpy.org/). These packages are imported for you here. We recommend you don't import other packages outside of the [Standard Library](https://docs.python.org/3/library/) , otherwise the grader might not be able to run your code."
   ]
  },
  {
   "cell_type": "code",
   "execution_count": 1,
   "metadata": {},
   "outputs": [],
   "source": [
    "import glob\n",
    "import os\n",
    "\n",
    "import numpy as np\n",
    "import pandas as pd"
   ]
  },
  {
   "cell_type": "markdown",
   "metadata": {},
   "source": [
    "#### Load the dataset\n",
    "\n",
    "The dataset is stored as [.npz](https://docs.scipy.org/doc/numpy/reference/generated/numpy.savez.html) files. Each file contains roughly 24 hours of heart rate data in the 'hr' array sampled at 1Hz. The subject ID is the name of the file. You will use these files to compute resting heart rate.\n",
    "\n",
    "Demographics metadata is stored in a file called 'metadata.csv'. This CSV has three columns, one for subject ID, age group, and sex. You will use this file to make the association between resting heart rate and age group for each gender.\n",
    "\n",
    "Find the dataset in `../datasets/crisdb/`"
   ]
  },
  {
   "cell_type": "code",
   "execution_count": 2,
   "metadata": {},
   "outputs": [],
   "source": [
    "hr_filenames = glob.glob('/data/crisdb/*.npz')"
   ]
  },
  {
   "cell_type": "markdown",
   "metadata": {},
   "source": [
    "#### Load Metadata\n",
    "Load the metadata file into a datastructure that allows for easy lookups from subject ID to age group and sex."
   ]
  },
  {
   "cell_type": "code",
   "execution_count": 3,
   "metadata": {},
   "outputs": [
    {
     "data": {
      "text/html": [
       "<div>\n",
       "<style scoped>\n",
       "    .dataframe tbody tr th:only-of-type {\n",
       "        vertical-align: middle;\n",
       "    }\n",
       "\n",
       "    .dataframe tbody tr th {\n",
       "        vertical-align: top;\n",
       "    }\n",
       "\n",
       "    .dataframe thead th {\n",
       "        text-align: right;\n",
       "    }\n",
       "</style>\n",
       "<table border=\"1\" class=\"dataframe\">\n",
       "  <thead>\n",
       "    <tr style=\"text-align: right;\">\n",
       "      <th></th>\n",
       "      <th>subject</th>\n",
       "      <th>age</th>\n",
       "      <th>sex</th>\n",
       "    </tr>\n",
       "  </thead>\n",
       "  <tbody>\n",
       "    <tr>\n",
       "      <th>0</th>\n",
       "      <td>e198a</td>\n",
       "      <td>20-24</td>\n",
       "      <td>Male</td>\n",
       "    </tr>\n",
       "    <tr>\n",
       "      <th>1</th>\n",
       "      <td>e198b</td>\n",
       "      <td>20-24</td>\n",
       "      <td>Male</td>\n",
       "    </tr>\n",
       "    <tr>\n",
       "      <th>2</th>\n",
       "      <td>e028b</td>\n",
       "      <td>30-34</td>\n",
       "      <td>Male</td>\n",
       "    </tr>\n",
       "    <tr>\n",
       "      <th>3</th>\n",
       "      <td>e028a</td>\n",
       "      <td>30-34</td>\n",
       "      <td>Male</td>\n",
       "    </tr>\n",
       "    <tr>\n",
       "      <th>4</th>\n",
       "      <td>e061b</td>\n",
       "      <td>30-34</td>\n",
       "      <td>Male</td>\n",
       "    </tr>\n",
       "  </tbody>\n",
       "</table>\n",
       "</div>"
      ],
      "text/plain": [
       "  subject    age   sex\n",
       "0   e198a  20-24  Male\n",
       "1   e198b  20-24  Male\n",
       "2   e028b  30-34  Male\n",
       "3   e028a  30-34  Male\n",
       "4   e061b  30-34  Male"
      ]
     },
     "execution_count": 3,
     "metadata": {},
     "output_type": "execute_result"
    }
   ],
   "source": [
    "metadata_filename = '/data/crisdb/metadata.csv'\n",
    "\n",
    "# Load the metadata file into this variable.\n",
    "with open(metadata_filename, 'r') as f:\n",
    "    metadata = pd.read_csv(metadata_filename)\n",
    "    \n",
    "metadata.head()"
   ]
  },
  {
   "cell_type": "markdown",
   "metadata": {},
   "source": [
    "#### Compute Resting Heart Rate\n",
    "For each subject we want to compute the resting heart rate while keeping track of which age group this subject belongs to. An easy, robust way to compute the resting heart rate is to use the lowest 5th percentile value in the heart rate timeseries."
   ]
  },
  {
   "cell_type": "code",
   "execution_count": 4,
   "metadata": {},
   "outputs": [],
   "source": [
    "def AgeAndRHR(metadata, filename):\n",
    "   \n",
    "    # Load the heart rate timeseries\n",
    "    hr_data = np.load(filename)['hr']\n",
    "    \n",
    "    # Compute the resting heart rate from the timeseries by finding the lowest 5th percentile value in hr_data\n",
    "    rhr = np.percentile(hr_data, 5)\n",
    "\n",
    "    # Find the subject ID from the filename.\n",
    "    subject =filename.split('/')[-1][:-4]\n",
    "    \n",
    "    # Find the age group for this subject in metadata.\n",
    "    age_group = metadata[metadata['subject'] == subject]['age'].values[0]\n",
    "    \n",
    "    # Find the sex for this subject in metadata.\n",
    "    sex = metadata[metadata['subject'] == subject]['sex'].values[0]\n",
    "\n",
    "    return age_group, sex, rhr\n",
    "\n",
    "df = pd.DataFrame(data=[AgeAndRHR(metadata, filename) for filename in hr_filenames],columns=['age_group', 'sex', 'rhr'])\n"
   ]
  },
  {
   "cell_type": "markdown",
   "metadata": {},
   "source": [
    "#### Plot Resting Heart Rate vs. Age Group\n",
    "We'll use [seaborn](https://seaborn.pydata.org/) to plot the relationship. Seaborn is a thin wrapper around matplotlib, which we've used extensively in this class, that enables higher-level statistical plots.\n",
    "\n",
    "We will use [lineplot](https://seaborn.pydata.org/generated/seaborn.lineplot.html#seaborn.lineplot) to plot the mean of the resting heart rates for each age group along with the 95% confidence interval around the mean. Learn more about making plots that show uncertainty [here](https://seaborn.pydata.org/tutorial/relational.html#aggregation-and-representing-uncertainty)."
   ]
  },
  {
   "cell_type": "code",
   "execution_count": 5,
   "metadata": {},
   "outputs": [],
   "source": [
    "import seaborn as sns\n",
    "from matplotlib import pyplot as plt\n",
    "\n",
    "labels = sorted(np.unique(df.age_group))\n",
    "df['xaxis'] = df.age_group.map(lambda x: labels.index(x)).astype('float')\n",
    "plt.figure(figsize=(12, 8))\n",
    "sns.lineplot(x='xaxis', y='rhr', hue='sex', data=df)\n",
    "_ = plt.xticks(np.arange(len(labels)), labels)"
   ]
  },
  {
   "cell_type": "markdown",
   "metadata": {},
   "source": [
    "### Clinical Conclusion\n",
    "Answer the following prompts to draw a conclusion about the data.\n",
    "> 1. For women, we see .... \n",
    "> 2. For men, we see ... \n",
    "> 3. In comparison to men, women's heart rate is .... \n",
    "> 4. What are some possible reasons for what we see in our data?\n",
    "> 5. What else can we do or go and find to figure out what is really happening? How would that improve the results?\n",
    "> 6. Did we validate the trend that average resting heart rate increases up until middle age and then decreases into old age? How?\n",
    "\n",
    "Your write-up will go here...\n",
    "\n",
    "\n",
    "#### Clinical conclusions for Women\n",
    "\n",
    "The hear rates for male users are more balanced with respect to their ages. There are some variances but not too high to infer some conclusions about their hear rates. \n",
    "\n",
    "#### Clinical conclusions for Men\n",
    "\n",
    "There is an age bias towards heart rates of younger users, it can be seen that their heart rates are higher when compared with users older than 65 years old. \n",
    "\n",
    "#### Women Vs Men heart rates\n",
    "\n",
    "Previous figures show heart rates for female and male users with respect to their ages. It can be concluded that male users have more stable heart rates with respect to their ages. That is not the case for female users.\n",
    "\n",
    "#### Data behaviour\n",
    "\n",
    "Physiological resting heart rates are in the range from 60 to 100 beats per minute. One possible explanation for the data behaviour is those female users younger than 65 years old were selected from a specific group of people, such as athletes. Therefore, there is a bias towards those resting heart rates, which increase the difference between older people who probably are not as active as them. For male users, there can be observed a more balanced selected of users.\n",
    "\n",
    "A different reason can be how much movements users have with respect to their ages, maybe female users older than 60 years generate movements that are translated into artefacts that increased their estimated heart rates.\n",
    "\n",
    "#### What else can we do or go and find to figure out what is really happening? How would that improve the results?\n",
    "\n",
    "The first thing to do is to see if the age groups are balanced, then to see if the same amount of people is used to represent each of the groups of interest and to see how those are compared when considering different genders. Additionally, it can be analyzed the average movements for female users that belong to a different group of ages, to see if some important highlights can be found."
   ]
  },
  {
   "cell_type": "markdown",
   "metadata": {},
   "source": [
    "***Analysing male groups users:***\n",
    "\n",
    "- Number of users per group of age:"
   ]
  },
  {
   "cell_type": "code",
   "execution_count": 6,
   "metadata": {},
   "outputs": [
    {
     "name": "stdout",
     "output_type": "stream",
     "text": [
      "Number of users in group 35-39: 24\n",
      "Number of users in group 40-44: 54\n",
      "Number of users in group 45-49: 109\n",
      "Number of users in group 50-54: 146\n",
      "Number of users in group 55-59: 215\n",
      "Number of users in group 60-64: 246\n",
      "Number of users in group 65-69: 230\n",
      "Number of users in group 70-74: 157\n",
      "Number of users in group 75-79: 79\n"
     ]
    }
   ],
   "source": [
    "A = df[df.sex == 'Male'].groupby('age_group')\n",
    "for a in list(A.groups.keys()):\n",
    "    print('Number of users in group ' + a + ':',  A.get_group(a).shape[0])"
   ]
  },
  {
   "cell_type": "markdown",
   "metadata": {},
   "source": [
    "- AXIS mean value per group of age:"
   ]
  },
  {
   "cell_type": "code",
   "execution_count": 7,
   "metadata": {},
   "outputs": [
    {
     "name": "stdout",
     "output_type": "stream",
     "text": [
      "AXIS values per group of ages:\n",
      "Age group: 35-39 -> High rates:  0.0 , Low rates: 0.0\n",
      "Age group: 40-44 -> High rates:  1.0 , Low rates: 1.0\n",
      "Age group: 45-49 -> High rates:  2.0 , Low rates: 2.0\n",
      "Age group: 50-54 -> High rates:  3.0 , Low rates: 3.0\n",
      "Age group: 55-59 -> High rates:  4.0 , Low rates: 4.0\n",
      "Age group: 60-64 -> High rates:  5.0 , Low rates: 5.0\n",
      "Age group: 65-69 -> High rates:  6.0 , Low rates: 6.0\n",
      "Age group: 70-74 -> High rates:  7.0 , Low rates: 7.0\n",
      "Age group: 75-79 -> High rates:  8.0 , Low rates: 8.0\n"
     ]
    }
   ],
   "source": [
    "A = df[df.sex == 'Male'].groupby('age_group')\n",
    "print('AXIS values per group of ages:')\n",
    "for a in list(A.groups.keys()):\n",
    "    print('Age group: ' + a, '-> High rates: ',A.get_group(a)[A.get_group(a).rhr > 65].xaxis.mean(), ', Low rates:',A.get_group(a)[A.get_group(a).rhr < 65].xaxis.mean())"
   ]
  },
  {
   "cell_type": "markdown",
   "metadata": {},
   "source": [
    "***Analysing female groups users:***\n",
    "\n",
    "- Number of users per group of age:"
   ]
  },
  {
   "cell_type": "code",
   "execution_count": 8,
   "metadata": {},
   "outputs": [
    {
     "name": "stdout",
     "output_type": "stream",
     "text": [
      "Number of users in group 35-39: 4\n",
      "Number of users in group 40-44: 8\n",
      "Number of users in group 45-49: 15\n",
      "Number of users in group 50-54: 18\n",
      "Number of users in group 55-59: 46\n",
      "Number of users in group 60-64: 67\n",
      "Number of users in group 65-69: 61\n",
      "Number of users in group 70-74: 39\n",
      "Number of users in group 75-79: 19\n"
     ]
    }
   ],
   "source": [
    "A = df[df.sex == 'Female'].groupby('age_group')\n",
    "for a in list(A.groups.keys()):\n",
    "    print('Number of users in group ' + a + ':',  A.get_group(a).shape[0])"
   ]
  },
  {
   "cell_type": "markdown",
   "metadata": {},
   "source": [
    "- AXIS mean value per group of age:"
   ]
  },
  {
   "cell_type": "code",
   "execution_count": 9,
   "metadata": {},
   "outputs": [
    {
     "name": "stdout",
     "output_type": "stream",
     "text": [
      "AXIS values per group of ages:\n",
      "Age group: 35-39 -> High rates:  0.0 , Low rates: 0.0\n",
      "Age group: 40-44 -> High rates:  1.0 , Low rates: 1.0\n",
      "Age group: 45-49 -> High rates:  2.0 , Low rates: 2.0\n",
      "Age group: 50-54 -> High rates:  3.0 , Low rates: 3.0\n",
      "Age group: 55-59 -> High rates:  4.0 , Low rates: 4.0\n",
      "Age group: 60-64 -> High rates:  5.0 , Low rates: 5.0\n",
      "Age group: 65-69 -> High rates:  6.0 , Low rates: 6.0\n",
      "Age group: 70-74 -> High rates:  7.0 , Low rates: 7.0\n",
      "Age group: 75-79 -> High rates:  8.0 , Low rates: 8.0\n"
     ]
    }
   ],
   "source": [
    "A = df[df.sex == 'Female'].groupby('age_group')\n",
    "print('AXIS values per group of ages:')\n",
    "for a in list(A.groups.keys()):\n",
    "    print('Age group: ' + a, '-> High rates: ',A.get_group(a)[A.get_group(a).rhr > 65].xaxis.mean(), ', Low rates:',A.get_group(a)[A.get_group(a).rhr < 65].xaxis.mean())"
   ]
  },
  {
   "cell_type": "markdown",
   "metadata": {},
   "source": [
    "***Conclusion:***\n",
    "\n",
    "It is difficult to get any conclusion of why younger female users have higher resting-state heart rates with the available data. This, since the behaviour across genders and group of ages, is similar in all scenarios analyzed. Nonetheless, a different conclusion can be given if more female users are analyzed, at least having the same amount of female users per group as in the male case to have a better comparison."
   ]
  },
  {
   "cell_type": "markdown",
   "metadata": {},
   "source": [
    "#### Did we validate the trend that average resting heart rate increases up until middle age and then decreases into old age? How?"
   ]
  },
  {
   "cell_type": "markdown",
   "metadata": {},
   "source": [
    "No, we didn't validate resting-state heart rates."
   ]
  },
  {
   "cell_type": "markdown",
   "metadata": {},
   "source": [
    "## FIN"
   ]
  },
  {
   "cell_type": "code",
   "execution_count": null,
   "metadata": {},
   "outputs": [],
   "source": []
  }
 ],
 "metadata": {
  "kernelspec": {
   "display_name": "Python 3",
   "language": "python",
   "name": "python3"
  },
  "language_info": {
   "codemirror_mode": {
    "name": "ipython",
    "version": 3
   },
   "file_extension": ".py",
   "mimetype": "text/x-python",
   "name": "python",
   "nbconvert_exporter": "python",
   "pygments_lexer": "ipython3",
   "version": "3.6.3"
  }
 },
 "nbformat": 4,
 "nbformat_minor": 2
}
